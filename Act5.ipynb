{
  "nbformat": 4,
  "nbformat_minor": 0,
  "metadata": {
    "colab": {
      "provenance": [],
      "authorship_tag": "ABX9TyPmk4XYJqtKuY3/S8PfKydZ",
      "include_colab_link": true
    },
    "kernelspec": {
      "name": "python3",
      "display_name": "Python 3"
    },
    "language_info": {
      "name": "python"
    }
  },
  "cells": [
    {
      "cell_type": "markdown",
      "metadata": {
        "id": "view-in-github",
        "colab_type": "text"
      },
      "source": [
        "<a href=\"https://colab.research.google.com/github/karen1203/Extracci-n-de-caracter-sticas/blob/main/Act5.ipynb\" target=\"_parent\"><img src=\"https://colab.research.google.com/assets/colab-badge.svg\" alt=\"Open In Colab\"/></a>"
      ]
    },
    {
      "cell_type": "code",
      "source": [
        "%pip install funpymodeling"
      ],
      "metadata": {
        "colab": {
          "base_uri": "https://localhost:8080/"
        },
        "id": "SQOxBMEy-AOB",
        "outputId": "749a1acb-312b-486c-95d4-1da0877d1fc3"
      },
      "execution_count": null,
      "outputs": [
        {
          "output_type": "stream",
          "name": "stdout",
          "text": [
            "Requirement already satisfied: funpymodeling in /usr/local/lib/python3.10/dist-packages (0.1.8)\n",
            "Requirement already satisfied: flake8<7.0.0,>=6.0.0 in /usr/local/lib/python3.10/dist-packages (from funpymodeling) (6.1.0)\n",
            "Requirement already satisfied: jupyter<2.0.0,>=1.0.0 in /usr/local/lib/python3.10/dist-packages (from funpymodeling) (1.0.0)\n",
            "Requirement already satisfied: matplotlib<4.0.0,>=3.7.1 in /usr/local/lib/python3.10/dist-packages (from funpymodeling) (3.7.1)\n",
            "Requirement already satisfied: numpy<2.0.0,>=1.24.3 in /usr/local/lib/python3.10/dist-packages (from funpymodeling) (1.25.2)\n",
            "Requirement already satisfied: pandas<3.0.0,>=2.0.2 in /usr/local/lib/python3.10/dist-packages (from funpymodeling) (2.0.3)\n",
            "Requirement already satisfied: pre-commit<4.0.0,>=3.3.2 in /usr/local/lib/python3.10/dist-packages (from funpymodeling) (3.3.3)\n",
            "Requirement already satisfied: pytest<8.0.0,>=7.3.1 in /usr/local/lib/python3.10/dist-packages (from funpymodeling) (7.4.0)\n",
            "Requirement already satisfied: scikit-learn<2.0.0,>=1.2.2 in /usr/local/lib/python3.10/dist-packages (from funpymodeling) (1.2.2)\n",
            "Requirement already satisfied: seaborn<0.13.0,>=0.12.2 in /usr/local/lib/python3.10/dist-packages (from funpymodeling) (0.12.2)\n",
            "Requirement already satisfied: typing-extensions<5.0.0,>=4.6.3 in /usr/local/lib/python3.10/dist-packages (from funpymodeling) (4.7.1)\n",
            "Requirement already satisfied: mccabe<0.8.0,>=0.7.0 in /usr/local/lib/python3.10/dist-packages (from flake8<7.0.0,>=6.0.0->funpymodeling) (0.7.0)\n",
            "Requirement already satisfied: pycodestyle<2.12.0,>=2.11.0 in /usr/local/lib/python3.10/dist-packages (from flake8<7.0.0,>=6.0.0->funpymodeling) (2.11.0)\n",
            "Requirement already satisfied: pyflakes<3.2.0,>=3.1.0 in /usr/local/lib/python3.10/dist-packages (from flake8<7.0.0,>=6.0.0->funpymodeling) (3.1.0)\n",
            "Requirement already satisfied: notebook in /usr/local/lib/python3.10/dist-packages (from jupyter<2.0.0,>=1.0.0->funpymodeling) (6.5.5)\n",
            "Requirement already satisfied: qtconsole in /usr/local/lib/python3.10/dist-packages (from jupyter<2.0.0,>=1.0.0->funpymodeling) (5.4.3)\n",
            "Requirement already satisfied: jupyter-console in /usr/local/lib/python3.10/dist-packages (from jupyter<2.0.0,>=1.0.0->funpymodeling) (6.1.0)\n",
            "Requirement already satisfied: nbconvert in /usr/local/lib/python3.10/dist-packages (from jupyter<2.0.0,>=1.0.0->funpymodeling) (6.5.4)\n",
            "Requirement already satisfied: ipykernel in /usr/local/lib/python3.10/dist-packages (from jupyter<2.0.0,>=1.0.0->funpymodeling) (5.5.6)\n",
            "Requirement already satisfied: ipywidgets in /usr/local/lib/python3.10/dist-packages (from jupyter<2.0.0,>=1.0.0->funpymodeling) (7.7.1)\n",
            "Requirement already satisfied: contourpy>=1.0.1 in /usr/local/lib/python3.10/dist-packages (from matplotlib<4.0.0,>=3.7.1->funpymodeling) (1.1.0)\n",
            "Requirement already satisfied: cycler>=0.10 in /usr/local/lib/python3.10/dist-packages (from matplotlib<4.0.0,>=3.7.1->funpymodeling) (0.11.0)\n",
            "Requirement already satisfied: fonttools>=4.22.0 in /usr/local/lib/python3.10/dist-packages (from matplotlib<4.0.0,>=3.7.1->funpymodeling) (4.42.1)\n",
            "Requirement already satisfied: kiwisolver>=1.0.1 in /usr/local/lib/python3.10/dist-packages (from matplotlib<4.0.0,>=3.7.1->funpymodeling) (1.4.4)\n",
            "Requirement already satisfied: packaging>=20.0 in /usr/local/lib/python3.10/dist-packages (from matplotlib<4.0.0,>=3.7.1->funpymodeling) (23.1)\n",
            "Requirement already satisfied: pillow>=6.2.0 in /usr/local/lib/python3.10/dist-packages (from matplotlib<4.0.0,>=3.7.1->funpymodeling) (9.4.0)\n",
            "Requirement already satisfied: pyparsing>=2.3.1 in /usr/local/lib/python3.10/dist-packages (from matplotlib<4.0.0,>=3.7.1->funpymodeling) (3.1.1)\n",
            "Requirement already satisfied: python-dateutil>=2.7 in /usr/local/lib/python3.10/dist-packages (from matplotlib<4.0.0,>=3.7.1->funpymodeling) (2.8.2)\n",
            "Requirement already satisfied: pytz>=2020.1 in /usr/local/lib/python3.10/dist-packages (from pandas<3.0.0,>=2.0.2->funpymodeling) (2023.3)\n",
            "Requirement already satisfied: tzdata>=2022.1 in /usr/local/lib/python3.10/dist-packages (from pandas<3.0.0,>=2.0.2->funpymodeling) (2023.3)\n",
            "Requirement already satisfied: cfgv>=2.0.0 in /usr/local/lib/python3.10/dist-packages (from pre-commit<4.0.0,>=3.3.2->funpymodeling) (3.4.0)\n",
            "Requirement already satisfied: identify>=1.0.0 in /usr/local/lib/python3.10/dist-packages (from pre-commit<4.0.0,>=3.3.2->funpymodeling) (2.5.27)\n",
            "Requirement already satisfied: nodeenv>=0.11.1 in /usr/local/lib/python3.10/dist-packages (from pre-commit<4.0.0,>=3.3.2->funpymodeling) (1.8.0)\n",
            "Requirement already satisfied: pyyaml>=5.1 in /usr/local/lib/python3.10/dist-packages (from pre-commit<4.0.0,>=3.3.2->funpymodeling) (6.0.1)\n",
            "Requirement already satisfied: virtualenv>=20.10.0 in /usr/local/lib/python3.10/dist-packages (from pre-commit<4.0.0,>=3.3.2->funpymodeling) (20.24.3)\n",
            "Requirement already satisfied: iniconfig in /usr/local/lib/python3.10/dist-packages (from pytest<8.0.0,>=7.3.1->funpymodeling) (2.0.0)\n",
            "Requirement already satisfied: pluggy<2.0,>=0.12 in /usr/local/lib/python3.10/dist-packages (from pytest<8.0.0,>=7.3.1->funpymodeling) (1.2.0)\n",
            "Requirement already satisfied: exceptiongroup>=1.0.0rc8 in /usr/local/lib/python3.10/dist-packages (from pytest<8.0.0,>=7.3.1->funpymodeling) (1.1.3)\n",
            "Requirement already satisfied: tomli>=1.0.0 in /usr/local/lib/python3.10/dist-packages (from pytest<8.0.0,>=7.3.1->funpymodeling) (2.0.1)\n",
            "Requirement already satisfied: scipy>=1.3.2 in /usr/local/lib/python3.10/dist-packages (from scikit-learn<2.0.0,>=1.2.2->funpymodeling) (1.10.1)\n",
            "Requirement already satisfied: joblib>=1.1.1 in /usr/local/lib/python3.10/dist-packages (from scikit-learn<2.0.0,>=1.2.2->funpymodeling) (1.3.2)\n",
            "Requirement already satisfied: threadpoolctl>=2.0.0 in /usr/local/lib/python3.10/dist-packages (from scikit-learn<2.0.0,>=1.2.2->funpymodeling) (3.2.0)\n",
            "Requirement already satisfied: setuptools in /usr/local/lib/python3.10/dist-packages (from nodeenv>=0.11.1->pre-commit<4.0.0,>=3.3.2->funpymodeling) (67.7.2)\n",
            "Requirement already satisfied: six>=1.5 in /usr/local/lib/python3.10/dist-packages (from python-dateutil>=2.7->matplotlib<4.0.0,>=3.7.1->funpymodeling) (1.16.0)\n",
            "Requirement already satisfied: distlib<1,>=0.3.7 in /usr/local/lib/python3.10/dist-packages (from virtualenv>=20.10.0->pre-commit<4.0.0,>=3.3.2->funpymodeling) (0.3.7)\n",
            "Requirement already satisfied: filelock<4,>=3.12.2 in /usr/local/lib/python3.10/dist-packages (from virtualenv>=20.10.0->pre-commit<4.0.0,>=3.3.2->funpymodeling) (3.12.2)\n",
            "Requirement already satisfied: platformdirs<4,>=3.9.1 in /usr/local/lib/python3.10/dist-packages (from virtualenv>=20.10.0->pre-commit<4.0.0,>=3.3.2->funpymodeling) (3.10.0)\n",
            "Requirement already satisfied: ipython-genutils in /usr/local/lib/python3.10/dist-packages (from ipykernel->jupyter<2.0.0,>=1.0.0->funpymodeling) (0.2.0)\n",
            "Requirement already satisfied: ipython>=5.0.0 in /usr/local/lib/python3.10/dist-packages (from ipykernel->jupyter<2.0.0,>=1.0.0->funpymodeling) (7.34.0)\n",
            "Requirement already satisfied: traitlets>=4.1.0 in /usr/local/lib/python3.10/dist-packages (from ipykernel->jupyter<2.0.0,>=1.0.0->funpymodeling) (5.7.1)\n",
            "Requirement already satisfied: jupyter-client in /usr/local/lib/python3.10/dist-packages (from ipykernel->jupyter<2.0.0,>=1.0.0->funpymodeling) (6.1.12)\n",
            "Requirement already satisfied: tornado>=4.2 in /usr/local/lib/python3.10/dist-packages (from ipykernel->jupyter<2.0.0,>=1.0.0->funpymodeling) (6.3.2)\n",
            "Requirement already satisfied: widgetsnbextension~=3.6.0 in /usr/local/lib/python3.10/dist-packages (from ipywidgets->jupyter<2.0.0,>=1.0.0->funpymodeling) (3.6.5)\n",
            "Requirement already satisfied: jupyterlab-widgets>=1.0.0 in /usr/local/lib/python3.10/dist-packages (from ipywidgets->jupyter<2.0.0,>=1.0.0->funpymodeling) (3.0.8)\n",
            "Requirement already satisfied: prompt-toolkit!=3.0.0,!=3.0.1,<3.1.0,>=2.0.0 in /usr/local/lib/python3.10/dist-packages (from jupyter-console->jupyter<2.0.0,>=1.0.0->funpymodeling) (3.0.39)\n",
            "Requirement already satisfied: pygments in /usr/local/lib/python3.10/dist-packages (from jupyter-console->jupyter<2.0.0,>=1.0.0->funpymodeling) (2.16.1)\n",
            "Requirement already satisfied: lxml in /usr/local/lib/python3.10/dist-packages (from nbconvert->jupyter<2.0.0,>=1.0.0->funpymodeling) (4.9.3)\n",
            "Requirement already satisfied: beautifulsoup4 in /usr/local/lib/python3.10/dist-packages (from nbconvert->jupyter<2.0.0,>=1.0.0->funpymodeling) (4.11.2)\n",
            "Requirement already satisfied: bleach in /usr/local/lib/python3.10/dist-packages (from nbconvert->jupyter<2.0.0,>=1.0.0->funpymodeling) (6.0.0)\n",
            "Requirement already satisfied: defusedxml in /usr/local/lib/python3.10/dist-packages (from nbconvert->jupyter<2.0.0,>=1.0.0->funpymodeling) (0.7.1)\n",
            "Requirement already satisfied: entrypoints>=0.2.2 in /usr/local/lib/python3.10/dist-packages (from nbconvert->jupyter<2.0.0,>=1.0.0->funpymodeling) (0.4)\n",
            "Requirement already satisfied: jinja2>=3.0 in /usr/local/lib/python3.10/dist-packages (from nbconvert->jupyter<2.0.0,>=1.0.0->funpymodeling) (3.1.2)\n",
            "Requirement already satisfied: jupyter-core>=4.7 in /usr/local/lib/python3.10/dist-packages (from nbconvert->jupyter<2.0.0,>=1.0.0->funpymodeling) (5.3.1)\n",
            "Requirement already satisfied: jupyterlab-pygments in /usr/local/lib/python3.10/dist-packages (from nbconvert->jupyter<2.0.0,>=1.0.0->funpymodeling) (0.2.2)\n",
            "Requirement already satisfied: MarkupSafe>=2.0 in /usr/local/lib/python3.10/dist-packages (from nbconvert->jupyter<2.0.0,>=1.0.0->funpymodeling) (2.1.3)\n",
            "Requirement already satisfied: mistune<2,>=0.8.1 in /usr/local/lib/python3.10/dist-packages (from nbconvert->jupyter<2.0.0,>=1.0.0->funpymodeling) (0.8.4)\n",
            "Requirement already satisfied: nbclient>=0.5.0 in /usr/local/lib/python3.10/dist-packages (from nbconvert->jupyter<2.0.0,>=1.0.0->funpymodeling) (0.8.0)\n",
            "Requirement already satisfied: nbformat>=5.1 in /usr/local/lib/python3.10/dist-packages (from nbconvert->jupyter<2.0.0,>=1.0.0->funpymodeling) (5.9.2)\n",
            "Requirement already satisfied: pandocfilters>=1.4.1 in /usr/local/lib/python3.10/dist-packages (from nbconvert->jupyter<2.0.0,>=1.0.0->funpymodeling) (1.5.0)\n",
            "Requirement already satisfied: tinycss2 in /usr/local/lib/python3.10/dist-packages (from nbconvert->jupyter<2.0.0,>=1.0.0->funpymodeling) (1.2.1)\n",
            "Requirement already satisfied: pyzmq<25,>=17 in /usr/local/lib/python3.10/dist-packages (from notebook->jupyter<2.0.0,>=1.0.0->funpymodeling) (23.2.1)\n",
            "Requirement already satisfied: argon2-cffi in /usr/local/lib/python3.10/dist-packages (from notebook->jupyter<2.0.0,>=1.0.0->funpymodeling) (23.1.0)\n",
            "Requirement already satisfied: nest-asyncio>=1.5 in /usr/local/lib/python3.10/dist-packages (from notebook->jupyter<2.0.0,>=1.0.0->funpymodeling) (1.5.7)\n",
            "Requirement already satisfied: Send2Trash>=1.8.0 in /usr/local/lib/python3.10/dist-packages (from notebook->jupyter<2.0.0,>=1.0.0->funpymodeling) (1.8.2)\n",
            "Requirement already satisfied: terminado>=0.8.3 in /usr/local/lib/python3.10/dist-packages (from notebook->jupyter<2.0.0,>=1.0.0->funpymodeling) (0.17.1)\n",
            "Requirement already satisfied: prometheus-client in /usr/local/lib/python3.10/dist-packages (from notebook->jupyter<2.0.0,>=1.0.0->funpymodeling) (0.17.1)\n",
            "Requirement already satisfied: nbclassic>=0.4.7 in /usr/local/lib/python3.10/dist-packages (from notebook->jupyter<2.0.0,>=1.0.0->funpymodeling) (1.0.0)\n",
            "Requirement already satisfied: qtpy>=2.0.1 in /usr/local/lib/python3.10/dist-packages (from qtconsole->jupyter<2.0.0,>=1.0.0->funpymodeling) (2.3.1)\n",
            "Requirement already satisfied: jedi>=0.16 in /usr/local/lib/python3.10/dist-packages (from ipython>=5.0.0->ipykernel->jupyter<2.0.0,>=1.0.0->funpymodeling) (0.19.0)\n",
            "Requirement already satisfied: decorator in /usr/local/lib/python3.10/dist-packages (from ipython>=5.0.0->ipykernel->jupyter<2.0.0,>=1.0.0->funpymodeling) (4.4.2)\n",
            "Requirement already satisfied: pickleshare in /usr/local/lib/python3.10/dist-packages (from ipython>=5.0.0->ipykernel->jupyter<2.0.0,>=1.0.0->funpymodeling) (0.7.5)\n",
            "Requirement already satisfied: backcall in /usr/local/lib/python3.10/dist-packages (from ipython>=5.0.0->ipykernel->jupyter<2.0.0,>=1.0.0->funpymodeling) (0.2.0)\n",
            "Requirement already satisfied: matplotlib-inline in /usr/local/lib/python3.10/dist-packages (from ipython>=5.0.0->ipykernel->jupyter<2.0.0,>=1.0.0->funpymodeling) (0.1.6)\n",
            "Requirement already satisfied: pexpect>4.3 in /usr/local/lib/python3.10/dist-packages (from ipython>=5.0.0->ipykernel->jupyter<2.0.0,>=1.0.0->funpymodeling) (4.8.0)\n",
            "Requirement already satisfied: jupyter-server>=1.8 in /usr/local/lib/python3.10/dist-packages (from nbclassic>=0.4.7->notebook->jupyter<2.0.0,>=1.0.0->funpymodeling) (1.24.0)\n",
            "Requirement already satisfied: notebook-shim>=0.2.3 in /usr/local/lib/python3.10/dist-packages (from nbclassic>=0.4.7->notebook->jupyter<2.0.0,>=1.0.0->funpymodeling) (0.2.3)\n",
            "Requirement already satisfied: fastjsonschema in /usr/local/lib/python3.10/dist-packages (from nbformat>=5.1->nbconvert->jupyter<2.0.0,>=1.0.0->funpymodeling) (2.18.0)\n",
            "Requirement already satisfied: jsonschema>=2.6 in /usr/local/lib/python3.10/dist-packages (from nbformat>=5.1->nbconvert->jupyter<2.0.0,>=1.0.0->funpymodeling) (4.19.0)\n",
            "Requirement already satisfied: wcwidth in /usr/local/lib/python3.10/dist-packages (from prompt-toolkit!=3.0.0,!=3.0.1,<3.1.0,>=2.0.0->jupyter-console->jupyter<2.0.0,>=1.0.0->funpymodeling) (0.2.6)\n",
            "Requirement already satisfied: ptyprocess in /usr/local/lib/python3.10/dist-packages (from terminado>=0.8.3->notebook->jupyter<2.0.0,>=1.0.0->funpymodeling) (0.7.0)\n",
            "Requirement already satisfied: argon2-cffi-bindings in /usr/local/lib/python3.10/dist-packages (from argon2-cffi->notebook->jupyter<2.0.0,>=1.0.0->funpymodeling) (21.2.0)\n",
            "Requirement already satisfied: soupsieve>1.2 in /usr/local/lib/python3.10/dist-packages (from beautifulsoup4->nbconvert->jupyter<2.0.0,>=1.0.0->funpymodeling) (2.4.1)\n",
            "Requirement already satisfied: webencodings in /usr/local/lib/python3.10/dist-packages (from bleach->nbconvert->jupyter<2.0.0,>=1.0.0->funpymodeling) (0.5.1)\n",
            "Requirement already satisfied: parso<0.9.0,>=0.8.3 in /usr/local/lib/python3.10/dist-packages (from jedi>=0.16->ipython>=5.0.0->ipykernel->jupyter<2.0.0,>=1.0.0->funpymodeling) (0.8.3)\n",
            "Requirement already satisfied: attrs>=22.2.0 in /usr/local/lib/python3.10/dist-packages (from jsonschema>=2.6->nbformat>=5.1->nbconvert->jupyter<2.0.0,>=1.0.0->funpymodeling) (23.1.0)\n",
            "Requirement already satisfied: jsonschema-specifications>=2023.03.6 in /usr/local/lib/python3.10/dist-packages (from jsonschema>=2.6->nbformat>=5.1->nbconvert->jupyter<2.0.0,>=1.0.0->funpymodeling) (2023.7.1)\n",
            "Requirement already satisfied: referencing>=0.28.4 in /usr/local/lib/python3.10/dist-packages (from jsonschema>=2.6->nbformat>=5.1->nbconvert->jupyter<2.0.0,>=1.0.0->funpymodeling) (0.30.2)\n",
            "Requirement already satisfied: rpds-py>=0.7.1 in /usr/local/lib/python3.10/dist-packages (from jsonschema>=2.6->nbformat>=5.1->nbconvert->jupyter<2.0.0,>=1.0.0->funpymodeling) (0.9.2)\n",
            "Requirement already satisfied: anyio<4,>=3.1.0 in /usr/local/lib/python3.10/dist-packages (from jupyter-server>=1.8->nbclassic>=0.4.7->notebook->jupyter<2.0.0,>=1.0.0->funpymodeling) (3.7.1)\n",
            "Requirement already satisfied: websocket-client in /usr/local/lib/python3.10/dist-packages (from jupyter-server>=1.8->nbclassic>=0.4.7->notebook->jupyter<2.0.0,>=1.0.0->funpymodeling) (1.6.2)\n",
            "Requirement already satisfied: cffi>=1.0.1 in /usr/local/lib/python3.10/dist-packages (from argon2-cffi-bindings->argon2-cffi->notebook->jupyter<2.0.0,>=1.0.0->funpymodeling) (1.15.1)\n",
            "Requirement already satisfied: idna>=2.8 in /usr/local/lib/python3.10/dist-packages (from anyio<4,>=3.1.0->jupyter-server>=1.8->nbclassic>=0.4.7->notebook->jupyter<2.0.0,>=1.0.0->funpymodeling) (3.4)\n",
            "Requirement already satisfied: sniffio>=1.1 in /usr/local/lib/python3.10/dist-packages (from anyio<4,>=3.1.0->jupyter-server>=1.8->nbclassic>=0.4.7->notebook->jupyter<2.0.0,>=1.0.0->funpymodeling) (1.3.0)\n",
            "Requirement already satisfied: pycparser in /usr/local/lib/python3.10/dist-packages (from cffi>=1.0.1->argon2-cffi-bindings->argon2-cffi->notebook->jupyter<2.0.0,>=1.0.0->funpymodeling) (2.21)\n"
          ]
        }
      ]
    },
    {
      "cell_type": "code",
      "source": [
        "from funpymodeling.exploratory import freq_tbl\n",
        "import pandas as pd\n",
        "import matplotlib.pyplot as plt\n",
        "import numpy as np"
      ],
      "metadata": {
        "id": "YBGylZGhDwL4"
      },
      "execution_count": 205,
      "outputs": []
    },
    {
      "cell_type": "code",
      "source": [
        "micro=pd.read_excel('micro.xlsx')\n",
        "micro.info()\n",
        "micro"
      ],
      "metadata": {
        "id": "oBIsNO8kygDY"
      },
      "execution_count": null,
      "outputs": []
    },
    {
      "cell_type": "markdown",
      "source": [
        "Primero seleccionamos las 20 variables que vamos a ocupar para el análisis."
      ],
      "metadata": {
        "id": "8Sx8wnev0Hvd"
      }
    },
    {
      "cell_type": "code",
      "source": [
        "micro=micro[['does_the_micro_retailer_sells_fresh_products_','type_of_store','does_the_micro_retailer_exhibits_products_outside_','store_devices','how_many_shelves_does_the_micro_retailer_have','current_permanent_employees','inventory_records','sales_records','sales_channels','payment_methods','sales_planning_tools','services','credit_to_customers','number_direct_competitors','home_deliveries','reception_delivery_packages','place_orders_suppliers','willingness_inventory_management_suppliers','internet_connection','technology_investment_customer_preferences']]\n",
        "micro"
      ],
      "metadata": {
        "id": "5RI8ZGaq0RLW"
      },
      "execution_count": null,
      "outputs": []
    },
    {
      "cell_type": "code",
      "source": [
        "micro.isnull().sum()"
      ],
      "metadata": {
        "id": "ho1Xcgod9Oua"
      },
      "execution_count": null,
      "outputs": []
    },
    {
      "cell_type": "code",
      "source": [
        "micro.groupby(['store_devices'])['store_devices'].count()"
      ],
      "metadata": {
        "id": "ABJvbvkb84bm"
      },
      "execution_count": null,
      "outputs": []
    },
    {
      "cell_type": "code",
      "source": [
        "micro['store_devices']=micro['store_devices'].fillna('Smartphone')\n"
      ],
      "metadata": {
        "id": "fI53id2fLL1B"
      },
      "execution_count": null,
      "outputs": []
    },
    {
      "cell_type": "code",
      "source": [
        "micro.isnull().sum()"
      ],
      "metadata": {
        "id": "IIRiDGFXLa2k"
      },
      "execution_count": null,
      "outputs": []
    },
    {
      "cell_type": "code",
      "source": [
        "micro.groupby(['current_permanent_employees'])['current_permanent_employees'].count()"
      ],
      "metadata": {
        "id": "4L3iW2ZTs72D"
      },
      "execution_count": null,
      "outputs": []
    },
    {
      "cell_type": "code",
      "source": [
        "micro['current_permanent_employees']=micro['current_permanent_employees'].fillna(1.0)"
      ],
      "metadata": {
        "id": "_HW5aaEm0Pak"
      },
      "execution_count": null,
      "outputs": []
    },
    {
      "cell_type": "code",
      "source": [
        "micro.groupby(['inventory_records'])['inventory_records'].count()"
      ],
      "metadata": {
        "id": "VYmGBOLq0ZW8"
      },
      "execution_count": null,
      "outputs": []
    },
    {
      "cell_type": "code",
      "source": [
        "micro['inventory_records']=micro['inventory_records'].fillna('En papel')"
      ],
      "metadata": {
        "id": "3xLRW1m90hml"
      },
      "execution_count": null,
      "outputs": []
    },
    {
      "cell_type": "code",
      "source": [
        "micro.groupby(['sales_records'])['sales_records'].count()"
      ],
      "metadata": {
        "id": "-gG5AJBj0nQ0"
      },
      "execution_count": null,
      "outputs": []
    },
    {
      "cell_type": "code",
      "source": [
        "micro['sales_records']=micro['sales_records'].fillna('En papel')"
      ],
      "metadata": {
        "id": "GDib_SWn1LM6"
      },
      "execution_count": null,
      "outputs": []
    },
    {
      "cell_type": "code",
      "source": [
        "micro.isnull().sum()"
      ],
      "metadata": {
        "id": "1e9PYXdm1P5S"
      },
      "execution_count": null,
      "outputs": []
    },
    {
      "cell_type": "code",
      "source": [
        "micro.groupby(['sales_channels'])['sales_channels'].count()"
      ],
      "metadata": {
        "id": "CyLBgiIY1zlz"
      },
      "execution_count": null,
      "outputs": []
    },
    {
      "cell_type": "code",
      "source": [
        "micro['sales_channels']=micro['sales_channels'].fillna('Redes sociales (e.g. Facebook, Instagram)')"
      ],
      "metadata": {
        "id": "8s1ryQgo1_cY"
      },
      "execution_count": null,
      "outputs": []
    },
    {
      "cell_type": "code",
      "source": [
        "micro.groupby(['payment_methods'])['payment_methods'].count()"
      ],
      "metadata": {
        "id": "kas7tEBW2XEq"
      },
      "execution_count": null,
      "outputs": []
    },
    {
      "cell_type": "code",
      "source": [
        "micro['payment_methods']=micro['payment_methods'].fillna('Efectivo')"
      ],
      "metadata": {
        "id": "O8dQQSfw2hX8"
      },
      "execution_count": null,
      "outputs": []
    },
    {
      "cell_type": "code",
      "source": [
        "micro.groupby(['sales_planning_tools'])['sales_planning_tools'].count()"
      ],
      "metadata": {
        "id": "p9lWln4V2rLm"
      },
      "execution_count": null,
      "outputs": []
    },
    {
      "cell_type": "code",
      "source": [
        "micro['sales_planning_tools']=micro['sales_planning_tools'].fillna('Ninguna')"
      ],
      "metadata": {
        "id": "0SSqg4Ra3IMP"
      },
      "execution_count": null,
      "outputs": []
    },
    {
      "cell_type": "code",
      "source": [
        "micro.isnull().sum()"
      ],
      "metadata": {
        "id": "uElZLr1q3Qqv"
      },
      "execution_count": null,
      "outputs": []
    },
    {
      "cell_type": "code",
      "source": [
        "micro.groupby(['services'])['services'].count()"
      ],
      "metadata": {
        "id": "SAmOjWyY3tZS"
      },
      "execution_count": null,
      "outputs": []
    },
    {
      "cell_type": "code",
      "source": [
        "micro['services']=micro['services'].fillna('Ninguno')"
      ],
      "metadata": {
        "id": "671OnKNv32UV"
      },
      "execution_count": null,
      "outputs": []
    },
    {
      "cell_type": "code",
      "source": [
        "micro.groupby(['credit_to_customers'])['credit_to_customers'].count()"
      ],
      "metadata": {
        "id": "MZ_N8vJn4Bev"
      },
      "execution_count": null,
      "outputs": []
    },
    {
      "cell_type": "code",
      "source": [
        "micro['credit_to_customers']=micro['credit_to_customers'].fillna('no')"
      ],
      "metadata": {
        "id": "8qeRlE-c4IwV"
      },
      "execution_count": null,
      "outputs": []
    },
    {
      "cell_type": "code",
      "source": [
        "micro.groupby(['number_direct_competitors'])['number_direct_competitors'].count()"
      ],
      "metadata": {
        "id": "SBnMT4l14Xdx"
      },
      "execution_count": null,
      "outputs": []
    },
    {
      "cell_type": "markdown",
      "source": [
        "En este paso como la moda son tres valores, ocupé la media de esos tres, es decir 2.0, para que no tenga tanto impacto en la distribución de estos.\n"
      ],
      "metadata": {
        "id": "t_KltvkW5Dfu"
      }
    },
    {
      "cell_type": "code",
      "source": [
        "micro['number_direct_competitors']=micro['number_direct_competitors'].fillna(2.0)"
      ],
      "metadata": {
        "id": "Xb50_95F4fg8"
      },
      "execution_count": null,
      "outputs": []
    },
    {
      "cell_type": "code",
      "source": [
        "micro.groupby(['home_deliveries'])['home_deliveries'].count()"
      ],
      "metadata": {
        "id": "R3euQURj4ssm"
      },
      "execution_count": null,
      "outputs": []
    },
    {
      "cell_type": "code",
      "source": [
        "micro['home_deliveries']=micro['home_deliveries'].fillna('Totalmente en desacuerdo')"
      ],
      "metadata": {
        "id": "__U-IW9E5jvr"
      },
      "execution_count": null,
      "outputs": []
    },
    {
      "cell_type": "code",
      "source": [
        "micro.isnull().sum()"
      ],
      "metadata": {
        "id": "EtmyZHL65zVr"
      },
      "execution_count": null,
      "outputs": []
    },
    {
      "cell_type": "code",
      "source": [
        "micro.groupby(['reception_delivery_packages'])['reception_delivery_packages'].count()"
      ],
      "metadata": {
        "id": "Y6bVTENS7Kon"
      },
      "execution_count": null,
      "outputs": []
    },
    {
      "cell_type": "code",
      "source": [
        "micro['reception_delivery_packages']=micro['reception_delivery_packages'].fillna('Totalmente en desacuerdo')"
      ],
      "metadata": {
        "id": "Igv9vRNo7QKj"
      },
      "execution_count": null,
      "outputs": []
    },
    {
      "cell_type": "code",
      "source": [
        "micro.groupby(['place_orders_suppliers'])['place_orders_suppliers'].count()"
      ],
      "metadata": {
        "id": "iAtelNth7dO2"
      },
      "execution_count": null,
      "outputs": []
    },
    {
      "cell_type": "code",
      "source": [
        "micro['place_orders_suppliers']=micro['place_orders_suppliers'].fillna('En persona')"
      ],
      "metadata": {
        "id": "JUfEnxwf7m7f"
      },
      "execution_count": null,
      "outputs": []
    },
    {
      "cell_type": "code",
      "source": [
        "micro.groupby(['willingness_inventory_management_suppliers'])['willingness_inventory_management_suppliers'].count()"
      ],
      "metadata": {
        "id": "dALBdGi-8MVs"
      },
      "execution_count": null,
      "outputs": []
    },
    {
      "cell_type": "code",
      "source": [
        "micro['willingness_inventory_management_suppliers']=micro['willingness_inventory_management_suppliers'].fillna('Totalmente en desacuerdo')"
      ],
      "metadata": {
        "id": "2Z_2SAke8gka"
      },
      "execution_count": null,
      "outputs": []
    },
    {
      "cell_type": "code",
      "source": [
        "micro.groupby(['internet_connection'])['internet_connection'].count()"
      ],
      "metadata": {
        "id": "ya4NErxL8sif"
      },
      "execution_count": null,
      "outputs": []
    },
    {
      "cell_type": "code",
      "source": [
        "micro['internet_connection']=micro['internet_connection'].fillna('yes')"
      ],
      "metadata": {
        "id": "qnXc0lIZ82ps"
      },
      "execution_count": null,
      "outputs": []
    },
    {
      "cell_type": "code",
      "source": [
        "micro.groupby(['technology_investment_customer_preferences'])['technology_investment_customer_preferences'].count()"
      ],
      "metadata": {
        "id": "iS73tDfY9DpT"
      },
      "execution_count": null,
      "outputs": []
    },
    {
      "cell_type": "code",
      "source": [
        "micro['technology_investment_customer_preferences']=micro['technology_investment_customer_preferences'].fillna('Totalmente en desacuerdo')"
      ],
      "metadata": {
        "id": "2cacl12q9FXB"
      },
      "execution_count": null,
      "outputs": []
    },
    {
      "cell_type": "code",
      "source": [
        "micro.isnull().sum()"
      ],
      "metadata": {
        "id": "NsXpba579aOX"
      },
      "execution_count": null,
      "outputs": []
    },
    {
      "cell_type": "code",
      "source": [
        "micro"
      ],
      "metadata": {
        "id": "ykFB4cXv_MM7"
      },
      "execution_count": null,
      "outputs": []
    },
    {
      "cell_type": "code",
      "source": [
        "microcuali=micro[['does_the_micro_retailer_sells_fresh_products_','type_of_store','does_the_micro_retailer_exhibits_products_outside_','store_devices','inventory_records','sales_records','sales_channels','payment_methods','sales_planning_tools','services','credit_to_customers','home_deliveries','reception_delivery_packages','place_orders_suppliers','willingness_inventory_management_suppliers','internet_connection','technology_investment_customer_preferences']]"
      ],
      "metadata": {
        "id": "kv27UOeR_VZA"
      },
      "execution_count": null,
      "outputs": []
    },
    {
      "cell_type": "code",
      "source": [
        "microcuanti=micro[['how_many_shelves_does_the_micro_retailer_have','current_permanent_employees','number_direct_competitors']]\n",
        "microcuanti"
      ],
      "metadata": {
        "id": "kMfammyKAzvh",
        "colab": {
          "base_uri": "https://localhost:8080/",
          "height": 424
        },
        "outputId": "86e8d2a2-9d5a-4bcb-fcb2-d2b2a33c438a"
      },
      "execution_count": 213,
      "outputs": [
        {
          "output_type": "execute_result",
          "data": {
            "text/plain": [
              "     how_many_shelves_does_the_micro_retailer_have  \\\n",
              "0                                                4   \n",
              "1                                                8   \n",
              "2                                               24   \n",
              "3                                                2   \n",
              "4                                               16   \n",
              "..                                             ...   \n",
              "166                                              5   \n",
              "167                                              5   \n",
              "168                                              1   \n",
              "169                                              1   \n",
              "170                                              1   \n",
              "\n",
              "     current_permanent_employees  number_direct_competitors  \n",
              "0                            2.0                        3.0  \n",
              "1                            1.0                        4.0  \n",
              "2                            2.0                        0.0  \n",
              "3                            1.0                        4.0  \n",
              "4                            0.0                        0.0  \n",
              "..                           ...                        ...  \n",
              "166                          1.0                        2.0  \n",
              "167                          1.0                        2.0  \n",
              "168                          1.0                        2.0  \n",
              "169                          1.0                        2.0  \n",
              "170                          1.0                        2.0  \n",
              "\n",
              "[171 rows x 3 columns]"
            ],
            "text/html": [
              "\n",
              "  <div id=\"df-6ecb2688-8260-4ccb-8db2-dff5c441682c\" class=\"colab-df-container\">\n",
              "    <div>\n",
              "<style scoped>\n",
              "    .dataframe tbody tr th:only-of-type {\n",
              "        vertical-align: middle;\n",
              "    }\n",
              "\n",
              "    .dataframe tbody tr th {\n",
              "        vertical-align: top;\n",
              "    }\n",
              "\n",
              "    .dataframe thead th {\n",
              "        text-align: right;\n",
              "    }\n",
              "</style>\n",
              "<table border=\"1\" class=\"dataframe\">\n",
              "  <thead>\n",
              "    <tr style=\"text-align: right;\">\n",
              "      <th></th>\n",
              "      <th>how_many_shelves_does_the_micro_retailer_have</th>\n",
              "      <th>current_permanent_employees</th>\n",
              "      <th>number_direct_competitors</th>\n",
              "    </tr>\n",
              "  </thead>\n",
              "  <tbody>\n",
              "    <tr>\n",
              "      <th>0</th>\n",
              "      <td>4</td>\n",
              "      <td>2.0</td>\n",
              "      <td>3.0</td>\n",
              "    </tr>\n",
              "    <tr>\n",
              "      <th>1</th>\n",
              "      <td>8</td>\n",
              "      <td>1.0</td>\n",
              "      <td>4.0</td>\n",
              "    </tr>\n",
              "    <tr>\n",
              "      <th>2</th>\n",
              "      <td>24</td>\n",
              "      <td>2.0</td>\n",
              "      <td>0.0</td>\n",
              "    </tr>\n",
              "    <tr>\n",
              "      <th>3</th>\n",
              "      <td>2</td>\n",
              "      <td>1.0</td>\n",
              "      <td>4.0</td>\n",
              "    </tr>\n",
              "    <tr>\n",
              "      <th>4</th>\n",
              "      <td>16</td>\n",
              "      <td>0.0</td>\n",
              "      <td>0.0</td>\n",
              "    </tr>\n",
              "    <tr>\n",
              "      <th>...</th>\n",
              "      <td>...</td>\n",
              "      <td>...</td>\n",
              "      <td>...</td>\n",
              "    </tr>\n",
              "    <tr>\n",
              "      <th>166</th>\n",
              "      <td>5</td>\n",
              "      <td>1.0</td>\n",
              "      <td>2.0</td>\n",
              "    </tr>\n",
              "    <tr>\n",
              "      <th>167</th>\n",
              "      <td>5</td>\n",
              "      <td>1.0</td>\n",
              "      <td>2.0</td>\n",
              "    </tr>\n",
              "    <tr>\n",
              "      <th>168</th>\n",
              "      <td>1</td>\n",
              "      <td>1.0</td>\n",
              "      <td>2.0</td>\n",
              "    </tr>\n",
              "    <tr>\n",
              "      <th>169</th>\n",
              "      <td>1</td>\n",
              "      <td>1.0</td>\n",
              "      <td>2.0</td>\n",
              "    </tr>\n",
              "    <tr>\n",
              "      <th>170</th>\n",
              "      <td>1</td>\n",
              "      <td>1.0</td>\n",
              "      <td>2.0</td>\n",
              "    </tr>\n",
              "  </tbody>\n",
              "</table>\n",
              "<p>171 rows × 3 columns</p>\n",
              "</div>\n",
              "    <div class=\"colab-df-buttons\">\n",
              "\n",
              "  <div class=\"colab-df-container\">\n",
              "    <button class=\"colab-df-convert\" onclick=\"convertToInteractive('df-6ecb2688-8260-4ccb-8db2-dff5c441682c')\"\n",
              "            title=\"Convert this dataframe to an interactive table.\"\n",
              "            style=\"display:none;\">\n",
              "\n",
              "  <svg xmlns=\"http://www.w3.org/2000/svg\" height=\"24px\" viewBox=\"0 -960 960 960\">\n",
              "    <path d=\"M120-120v-720h720v720H120Zm60-500h600v-160H180v160Zm220 220h160v-160H400v160Zm0 220h160v-160H400v160ZM180-400h160v-160H180v160Zm440 0h160v-160H620v160ZM180-180h160v-160H180v160Zm440 0h160v-160H620v160Z\"/>\n",
              "  </svg>\n",
              "    </button>\n",
              "\n",
              "  <style>\n",
              "    .colab-df-container {\n",
              "      display:flex;\n",
              "      gap: 12px;\n",
              "    }\n",
              "\n",
              "    .colab-df-convert {\n",
              "      background-color: #E8F0FE;\n",
              "      border: none;\n",
              "      border-radius: 50%;\n",
              "      cursor: pointer;\n",
              "      display: none;\n",
              "      fill: #1967D2;\n",
              "      height: 32px;\n",
              "      padding: 0 0 0 0;\n",
              "      width: 32px;\n",
              "    }\n",
              "\n",
              "    .colab-df-convert:hover {\n",
              "      background-color: #E2EBFA;\n",
              "      box-shadow: 0px 1px 2px rgba(60, 64, 67, 0.3), 0px 1px 3px 1px rgba(60, 64, 67, 0.15);\n",
              "      fill: #174EA6;\n",
              "    }\n",
              "\n",
              "    .colab-df-buttons div {\n",
              "      margin-bottom: 4px;\n",
              "    }\n",
              "\n",
              "    [theme=dark] .colab-df-convert {\n",
              "      background-color: #3B4455;\n",
              "      fill: #D2E3FC;\n",
              "    }\n",
              "\n",
              "    [theme=dark] .colab-df-convert:hover {\n",
              "      background-color: #434B5C;\n",
              "      box-shadow: 0px 1px 3px 1px rgba(0, 0, 0, 0.15);\n",
              "      filter: drop-shadow(0px 1px 2px rgba(0, 0, 0, 0.3));\n",
              "      fill: #FFFFFF;\n",
              "    }\n",
              "  </style>\n",
              "\n",
              "    <script>\n",
              "      const buttonEl =\n",
              "        document.querySelector('#df-6ecb2688-8260-4ccb-8db2-dff5c441682c button.colab-df-convert');\n",
              "      buttonEl.style.display =\n",
              "        google.colab.kernel.accessAllowed ? 'block' : 'none';\n",
              "\n",
              "      async function convertToInteractive(key) {\n",
              "        const element = document.querySelector('#df-6ecb2688-8260-4ccb-8db2-dff5c441682c');\n",
              "        const dataTable =\n",
              "          await google.colab.kernel.invokeFunction('convertToInteractive',\n",
              "                                                    [key], {});\n",
              "        if (!dataTable) return;\n",
              "\n",
              "        const docLinkHtml = 'Like what you see? Visit the ' +\n",
              "          '<a target=\"_blank\" href=https://colab.research.google.com/notebooks/data_table.ipynb>data table notebook</a>'\n",
              "          + ' to learn more about interactive tables.';\n",
              "        element.innerHTML = '';\n",
              "        dataTable['output_type'] = 'display_data';\n",
              "        await google.colab.output.renderOutput(dataTable, element);\n",
              "        const docLink = document.createElement('div');\n",
              "        docLink.innerHTML = docLinkHtml;\n",
              "        element.appendChild(docLink);\n",
              "      }\n",
              "    </script>\n",
              "  </div>\n",
              "\n",
              "\n",
              "<div id=\"df-6b741ff8-7ab4-4128-aea7-7d5bfeaaac15\">\n",
              "  <button class=\"colab-df-quickchart\" onclick=\"quickchart('df-6b741ff8-7ab4-4128-aea7-7d5bfeaaac15')\"\n",
              "            title=\"Suggest charts.\"\n",
              "            style=\"display:none;\">\n",
              "\n",
              "<svg xmlns=\"http://www.w3.org/2000/svg\" height=\"24px\"viewBox=\"0 0 24 24\"\n",
              "     width=\"24px\">\n",
              "    <g>\n",
              "        <path d=\"M19 3H5c-1.1 0-2 .9-2 2v14c0 1.1.9 2 2 2h14c1.1 0 2-.9 2-2V5c0-1.1-.9-2-2-2zM9 17H7v-7h2v7zm4 0h-2V7h2v10zm4 0h-2v-4h2v4z\"/>\n",
              "    </g>\n",
              "</svg>\n",
              "  </button>\n",
              "\n",
              "<style>\n",
              "  .colab-df-quickchart {\n",
              "    background-color: #E8F0FE;\n",
              "    border: none;\n",
              "    border-radius: 50%;\n",
              "    cursor: pointer;\n",
              "    display: none;\n",
              "    fill: #1967D2;\n",
              "    height: 32px;\n",
              "    padding: 0 0 0 0;\n",
              "    width: 32px;\n",
              "  }\n",
              "\n",
              "  .colab-df-quickchart:hover {\n",
              "    background-color: #E2EBFA;\n",
              "    box-shadow: 0px 1px 2px rgba(60, 64, 67, 0.3), 0px 1px 3px 1px rgba(60, 64, 67, 0.15);\n",
              "    fill: #174EA6;\n",
              "  }\n",
              "\n",
              "  [theme=dark] .colab-df-quickchart {\n",
              "    background-color: #3B4455;\n",
              "    fill: #D2E3FC;\n",
              "  }\n",
              "\n",
              "  [theme=dark] .colab-df-quickchart:hover {\n",
              "    background-color: #434B5C;\n",
              "    box-shadow: 0px 1px 3px 1px rgba(0, 0, 0, 0.15);\n",
              "    filter: drop-shadow(0px 1px 2px rgba(0, 0, 0, 0.3));\n",
              "    fill: #FFFFFF;\n",
              "  }\n",
              "</style>\n",
              "\n",
              "  <script>\n",
              "    async function quickchart(key) {\n",
              "      const charts = await google.colab.kernel.invokeFunction(\n",
              "          'suggestCharts', [key], {});\n",
              "    }\n",
              "    (() => {\n",
              "      let quickchartButtonEl =\n",
              "        document.querySelector('#df-6b741ff8-7ab4-4128-aea7-7d5bfeaaac15 button');\n",
              "      quickchartButtonEl.style.display =\n",
              "        google.colab.kernel.accessAllowed ? 'block' : 'none';\n",
              "    })();\n",
              "  </script>\n",
              "</div>\n",
              "    </div>\n",
              "  </div>\n"
            ]
          },
          "metadata": {},
          "execution_count": 213
        }
      ]
    },
    {
      "cell_type": "markdown",
      "source": [
        "Graficamos las variables cuantitativas para ver los outliers"
      ],
      "metadata": {
        "id": "mtv_fNuUFlL4"
      }
    },
    {
      "cell_type": "code",
      "source": [
        "plt.boxplot(microcuanti)"
      ],
      "metadata": {
        "colab": {
          "base_uri": "https://localhost:8080/",
          "height": 823
        },
        "id": "KFAyFrzNCs8R",
        "outputId": "426e59f1-0c5b-438a-98f8-eb843aa0a87e"
      },
      "execution_count": 208,
      "outputs": [
        {
          "output_type": "execute_result",
          "data": {
            "text/plain": [
              "{'whiskers': [<matplotlib.lines.Line2D at 0x7ed75c867760>,\n",
              "  <matplotlib.lines.Line2D at 0x7ed75c867520>,\n",
              "  <matplotlib.lines.Line2D at 0x7ed76b871f30>,\n",
              "  <matplotlib.lines.Line2D at 0x7ed76a847070>,\n",
              "  <matplotlib.lines.Line2D at 0x7ed764e04340>,\n",
              "  <matplotlib.lines.Line2D at 0x7ed764e04c70>],\n",
              " 'caps': [<matplotlib.lines.Line2D at 0x7ed75c867bb0>,\n",
              "  <matplotlib.lines.Line2D at 0x7ed75c867eb0>,\n",
              "  <matplotlib.lines.Line2D at 0x7ed764e07520>,\n",
              "  <matplotlib.lines.Line2D at 0x7ed764e07190>,\n",
              "  <matplotlib.lines.Line2D at 0x7ed764e05e70>,\n",
              "  <matplotlib.lines.Line2D at 0x7ed764e044c0>],\n",
              " 'boxes': [<matplotlib.lines.Line2D at 0x7ed75c867490>,\n",
              "  <matplotlib.lines.Line2D at 0x7ed76038cf10>,\n",
              "  <matplotlib.lines.Line2D at 0x7ed764e04bb0>],\n",
              " 'medians': [<matplotlib.lines.Line2D at 0x7ed76038c730>,\n",
              "  <matplotlib.lines.Line2D at 0x7ed764e06a10>,\n",
              "  <matplotlib.lines.Line2D at 0x7ed764e04520>],\n",
              " 'fliers': [<matplotlib.lines.Line2D at 0x7ed76038ca60>,\n",
              "  <matplotlib.lines.Line2D at 0x7ed764e064a0>,\n",
              "  <matplotlib.lines.Line2D at 0x7ed764e04700>],\n",
              " 'means': []}"
            ]
          },
          "metadata": {},
          "execution_count": 208
        },
        {
          "output_type": "display_data",
          "data": {
            "text/plain": [
              "<Figure size 640x480 with 1 Axes>"
            ],
            "image/png": "[encoded data removed]"
          },
          "metadata": {}
        }
      ]
    },
    {
      "cell_type": "markdown",
      "source": [
        "A continuación ajustaré los outliers con ayuda del rango intercuartílico, para que los valores que estén fuera del rango se ajuste al valor máximo en este caso que esté dentro de los parámetros aceptables de acuerdo al método de rango intercuartílico."
      ],
      "metadata": {
        "id": "HD91P25IF64B"
      }
    },
    {
      "cell_type": "code",
      "source": [
        "q1 = microcuanti['how_many_shelves_does_the_micro_retailer_have'].quantile(0.25)\n",
        "q3 = microcuanti['how_many_shelves_does_the_micro_retailer_have'].quantile(0.75)\n",
        "iqr = q3 - q1\n",
        "\n",
        "lower_bound = q1 - 1.5 * iqr\n",
        "upper_bound = q3 + 1.5 * iqr\n",
        "\n",
        "filtered_df = microcuanti[(microcuanti['how_many_shelves_does_the_micro_retailer_have'] >= lower_bound) & (microcuanti['how_many_shelves_does_the_micro_retailer_have'] <= upper_bound)]\n"
      ],
      "metadata": {
        "id": "Zhiu8FajFJMM"
      },
      "execution_count": 210,
      "outputs": []
    },
    {
      "cell_type": "code",
      "source": [
        "\n",
        "microcuanti['how_many_shelves_does_the_micro_retailer_have'] = np.where(microcuanti['how_many_shelves_does_the_micro_retailer_have'] > upper_bound, upper_bound, microcuanti['how_many_shelves_does_the_micro_retailer_have'])\n",
        "\n",
        "microcuanti['how_many_shelves_does_the_micro_retailer_have'] = np.where(microcuanti['how_many_shelves_does_the_micro_retailer_have'] < lower_bound, lower_bound, microcuanti['how_many_shelves_does_the_micro_retailer_have'])\n"
      ],
      "metadata": {
        "id": "oC-Ft0hHCEAH",
        "colab": {
          "base_uri": "https://localhost:8080/"
        },
        "outputId": "0cd31140-47de-4156-e9da-bf59db41aedd"
      },
      "execution_count": 212,
      "outputs": [
        {
          "output_type": "stream",
          "name": "stderr",
          "text": [
            "<ipython-input-212-bab5b38877ba>:2: SettingWithCopyWarning: \n",
            "A value is trying to be set on a copy of a slice from a DataFrame.\n",
            "Try using .loc[row_indexer,col_indexer] = value instead\n",
            "\n",
            "See the caveats in the documentation: https://pandas.pydata.org/pandas-docs/stable/user_guide/indexing.html#returning-a-view-versus-a-copy\n",
            "  microcuanti['how_many_shelves_does_the_micro_retailer_have'] = np.where(microcuanti['how_many_shelves_does_the_micro_retailer_have'] > upper_bound, upper_bound, microcuanti['how_many_shelves_does_the_micro_retailer_have'])\n",
            "<ipython-input-212-bab5b38877ba>:5: SettingWithCopyWarning: \n",
            "A value is trying to be set on a copy of a slice from a DataFrame.\n",
            "Try using .loc[row_indexer,col_indexer] = value instead\n",
            "\n",
            "See the caveats in the documentation: https://pandas.pydata.org/pandas-docs/stable/user_guide/indexing.html#returning-a-view-versus-a-copy\n",
            "  microcuanti['how_many_shelves_does_the_micro_retailer_have'] = np.where(microcuanti['how_many_shelves_does_the_micro_retailer_have'] < lower_bound, lower_bound, microcuanti['how_many_shelves_does_the_micro_retailer_have'])\n"
          ]
        }
      ]
    },
    {
      "cell_type": "markdown",
      "source": [
        "Después haremos lo mismo con las otras dos variables, dado que son números enteros se tienen que ajustar para que queden números enteros y ajustados a los parámetros."
      ],
      "metadata": {
        "id": "7z7oJLFTGgvX"
      }
    },
    {
      "cell_type": "code",
      "source": [
        "q11 = microcuanti['current_permanent_employees'].quantile(0.25)\n",
        "q31 = microcuanti['current_permanent_employees'].quantile(0.75)\n",
        "iqr1 = q31 - q11\n",
        "\n",
        "lower_bound1 = q11 - 1.5 * iqr1\n",
        "upper_bound1 = q31 + 1.5 * iqr1\n",
        "filtered_df1 = microcuanti[(microcuanti['current_permanent_employees'] >= lower_bound1) & (microcuanti['current_permanent_employees'] <= upper_bound1)]\n"
      ],
      "metadata": {
        "id": "dkATcpzjGtvb"
      },
      "execution_count": 216,
      "outputs": []
    },
    {
      "cell_type": "code",
      "source": [
        "microcuanti['current_permanent_employees'] = np.where(microcuanti['current_permanent_employees'] > upper_bound1, upper_bound1, microcuanti['current_permanent_employees'])\n",
        "\n",
        "microcuanti['current_permanent_employees'] = np.where(microcuanti['current_permanent_employees'] < lower_bound1, lower_bound1, microcuanti['current_permanent_employees'])\n"
      ],
      "metadata": {
        "colab": {
          "base_uri": "https://localhost:8080/"
        },
        "id": "wf7t__33Hc2E",
        "outputId": "6e80fa73-113a-4416-96d4-3868db6a3435"
      },
      "execution_count": 217,
      "outputs": [
        {
          "output_type": "stream",
          "name": "stderr",
          "text": [
            "<ipython-input-217-093928c1972d>:1: SettingWithCopyWarning: \n",
            "A value is trying to be set on a copy of a slice from a DataFrame.\n",
            "Try using .loc[row_indexer,col_indexer] = value instead\n",
            "\n",
            "See the caveats in the documentation: https://pandas.pydata.org/pandas-docs/stable/user_guide/indexing.html#returning-a-view-versus-a-copy\n",
            "  microcuanti['current_permanent_employees'] = np.where(microcuanti['current_permanent_employees'] > upper_bound1, upper_bound1, microcuanti['current_permanent_employees'])\n",
            "<ipython-input-217-093928c1972d>:3: SettingWithCopyWarning: \n",
            "A value is trying to be set on a copy of a slice from a DataFrame.\n",
            "Try using .loc[row_indexer,col_indexer] = value instead\n",
            "\n",
            "See the caveats in the documentation: https://pandas.pydata.org/pandas-docs/stable/user_guide/indexing.html#returning-a-view-versus-a-copy\n",
            "  microcuanti['current_permanent_employees'] = np.where(microcuanti['current_permanent_employees'] < lower_bound1, lower_bound1, microcuanti['current_permanent_employees'])\n"
          ]
        }
      ]
    },
    {
      "cell_type": "code",
      "source": [
        "q12 = microcuanti['number_direct_competitors'].quantile(0.25)\n",
        "q32 = microcuanti['number_direct_competitors'].quantile(0.75)\n",
        "iqr2 = q32 - q12\n",
        "\n",
        "lower_bound2 = q12 - 1.5 * iqr2\n",
        "upper_bound2 = q32 + 1.5 * iqr2\n",
        "filtered_df2 = microcuanti[(microcuanti['number_direct_competitors'] >= lower_bound2) & (microcuanti['number_direct_competitors'] <= upper_bound2)]"
      ],
      "metadata": {
        "id": "4XyHeUx0ISNE"
      },
      "execution_count": 218,
      "outputs": []
    },
    {
      "cell_type": "code",
      "source": [
        "microcuanti['number_direct_competitors'] = np.where(microcuanti['number_direct_competitors'] > upper_bound2, upper_bound2, microcuanti['number_direct_competitors'])\n",
        "\n",
        "microcuanti['number_direct_competitors'] = np.where(microcuanti['number_direct_competitors'] < lower_bound2, lower_bound2, microcuanti['number_direct_competitors'])\n"
      ],
      "metadata": {
        "colab": {
          "base_uri": "https://localhost:8080/"
        },
        "id": "qUVt-058IR6g",
        "outputId": "8e070e7d-76a9-485b-86e2-09fce7db036b"
      },
      "execution_count": 219,
      "outputs": [
        {
          "output_type": "stream",
          "name": "stderr",
          "text": [
            "<ipython-input-219-b3a92be80542>:1: SettingWithCopyWarning: \n",
            "A value is trying to be set on a copy of a slice from a DataFrame.\n",
            "Try using .loc[row_indexer,col_indexer] = value instead\n",
            "\n",
            "See the caveats in the documentation: https://pandas.pydata.org/pandas-docs/stable/user_guide/indexing.html#returning-a-view-versus-a-copy\n",
            "  microcuanti['number_direct_competitors'] = np.where(microcuanti['number_direct_competitors'] > upper_bound2, upper_bound2, microcuanti['number_direct_competitors'])\n",
            "<ipython-input-219-b3a92be80542>:3: SettingWithCopyWarning: \n",
            "A value is trying to be set on a copy of a slice from a DataFrame.\n",
            "Try using .loc[row_indexer,col_indexer] = value instead\n",
            "\n",
            "See the caveats in the documentation: https://pandas.pydata.org/pandas-docs/stable/user_guide/indexing.html#returning-a-view-versus-a-copy\n",
            "  microcuanti['number_direct_competitors'] = np.where(microcuanti['number_direct_competitors'] < lower_bound2, lower_bound2, microcuanti['number_direct_competitors'])\n"
          ]
        }
      ]
    },
    {
      "cell_type": "code",
      "source": [
        "freq_tbl(micro)"
      ],
      "metadata": {
        "id": "WLoNOtTT917C"
      },
      "execution_count": null,
      "outputs": []
    }
  ]
}